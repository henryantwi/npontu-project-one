{
 "cells": [
  {
   "cell_type": "markdown",
   "source": [
    "<h1 style=\"text-align: center;\">Matching & Populating Employee Database with CSV data</h1>"
   ],
   "metadata": {
    "collapsed": false
   },
   "id": "440245f756ea0745"
  },
  {
   "cell_type": "code",
   "execution_count": null,
   "id": "761dcb69",
   "metadata": {},
   "outputs": [],
   "source": [
    "import time\n",
    "import os\n",
    "import psycopg2\n",
    "import psycopg2.extras\n",
    "import pandas as pd"
   ]
  },
  {
   "cell_type": "code",
   "execution_count": null,
   "id": "88659f57",
   "metadata": {},
   "outputs": [],
   "source": [
    "csv_data = pd.read_csv('employee_data.csv', encoding='latin1')"
   ]
  },
  {
   "cell_type": "code",
   "execution_count": null,
   "outputs": [],
   "source": [
    "db_pass=os.environ.get('POSTGRESQL_PASSWORD')"
   ],
   "metadata": {
    "collapsed": false
   },
   "id": "4e73896cf7138677"
  },
  {
   "cell_type": "code",
   "execution_count": null,
   "id": "fde5e1ad",
   "metadata": {},
   "outputs": [],
   "source": [
    "start_time = time.time()\n",
    "\n",
    "conn=None\n",
    "cur=None\n",
    "\n",
    "try:\n",
    "    \n",
    "    conn = psycopg2.connect(\n",
    "            host = 'localhost',\n",
    "            dbname = 'Employee',\n",
    "            user = 'postgres',\n",
    "            password = db_pass,\n",
    "            port = 5432\n",
    "    )\n",
    "\n",
    "    cur = conn.cursor()\n",
    "    # cur = conn.cursor(cursor_factory=psycopg2.extras.DictCursor)\n",
    "    \n",
    "    cur.execute('DROP TABLE IF EXISTS employee')\n",
    "    \n",
    "    create_script = \"\"\" CREATE TABLE IF NOT EXISTS employee (\n",
    "        \"EEID\" VARCHAR(20),\n",
    "        \"Full Name\" VARCHAR(100),\n",
    "        \"Job Title\" VARCHAR(100),\n",
    "        \"Department\" VARCHAR(100),\n",
    "        \"Business Unit\" VARCHAR(100),\n",
    "        \"Gender\" VARCHAR(10),\n",
    "        \"Ethnicity\" VARCHAR(50),\n",
    "        \"Age\" INTEGER,\n",
    "        \"Hire Date\" VARCHAR(100),\n",
    "        \"Annual Salary\" VARCHAR(100),\n",
    "        \"Bonus %\" VARCHAR(100),\n",
    "        \"Country\" VARCHAR(50),\n",
    "        \"City\" VARCHAR(50),\n",
    "        \"Exit Date\" VARCHAR(100)\n",
    "    )\n",
    "    \"\"\"\n",
    "    cur.execute(create_script)\n",
    "    \n",
    "    for index, row in csv_data.iterrows():\n",
    "            row_values = tuple(row)\n",
    "            placeholders = ','.join(['%s'] * len(row))\n",
    "            insert_script = f\"INSERT INTO employee VALUES ({placeholders})\"\n",
    "            cur.execute(insert_script, row_values)\n",
    "\n",
    "    # cur.execute('SELECT * FROM employee')\n",
    "    # print(cur.fetchall())\n",
    "      \n",
    "\n",
    "    conn.commit()\n",
    "    \n",
    "    \n",
    "except Exception as error:\n",
    "    print(\"Error message: \", error)\n",
    "    \n",
    "    \n",
    "finally:\n",
    "    if cur is not None:\n",
    "        cur.close()\n",
    "    if conn is not None:\n",
    "        conn.close()\n",
    "    \n",
    "    end_time = time.time()"
   ]
  },
  {
   "cell_type": "code",
   "execution_count": null,
   "outputs": [],
   "source": [
    "print(f\"Execution time: {(end_time - start_time):.6f} secs\")"
   ],
   "metadata": {
    "collapsed": false
   },
   "id": "308432d1ed7bcbd2"
  }
 ],
 "metadata": {
  "kernelspec": {
   "display_name": "Python 3 (ipykernel)",
   "language": "python",
   "name": "python3"
  },
  "language_info": {
   "codemirror_mode": {
    "name": "ipython",
    "version": 3
   },
   "file_extension": ".py",
   "mimetype": "text/x-python",
   "name": "python",
   "nbconvert_exporter": "python",
   "pygments_lexer": "ipython3",
   "version": "3.9.12"
  }
 },
 "nbformat": 4,
 "nbformat_minor": 5
}
